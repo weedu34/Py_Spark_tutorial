{
 "cells": [
  {
   "cell_type": "markdown",
   "id": "41391ea2-a578-4bc5-a0ae-6e5c8bce5668",
   "metadata": {},
   "source": [
    "### In this Tutorial, you will learn how to:\n",
    "- Start the spark session\n",
    "- Read The Data Set\n",
    "- select, add, remove and rename the columns\n",
    "    "
   ]
  },
  {
   "cell_type": "code",
   "execution_count": 1,
   "id": "97a77ab7-61b8-4db9-84c3-748d4ac74eb6",
   "metadata": {},
   "outputs": [],
   "source": [
    "from pyspark.sql import SparkSession\n",
    "\n"
   ]
  },
  {
   "cell_type": "code",
   "execution_count": 2,
   "id": "04a9d88a-355c-414c-8931-fddc9e93e4d0",
   "metadata": {},
   "outputs": [
    {
     "data": {
      "text/html": [
       "\n",
       "            <div>\n",
       "                <p><b>SparkSession - in-memory</b></p>\n",
       "                \n",
       "        <div>\n",
       "            <p><b>SparkContext</b></p>\n",
       "\n",
       "            <p><a href=\"http://192.168.0.102:4040\">Spark UI</a></p>\n",
       "\n",
       "            <dl>\n",
       "              <dt>Version</dt>\n",
       "                <dd><code>v3.5.0</code></dd>\n",
       "              <dt>Master</dt>\n",
       "                <dd><code>local[*]</code></dd>\n",
       "              <dt>AppName</dt>\n",
       "                <dd><code>Tutorial</code></dd>\n",
       "            </dl>\n",
       "        </div>\n",
       "        \n",
       "            </div>\n",
       "        "
      ],
      "text/plain": [
       "<pyspark.sql.session.SparkSession at 0x217a1255a90>"
      ]
     },
     "execution_count": 2,
     "metadata": {},
     "output_type": "execute_result"
    }
   ],
   "source": [
    "# Iitialize the spark session\n",
    "spark = SparkSession.builder.appName('Tutorial').getOrCreate()\n",
    "spark"
   ]
  },
  {
   "cell_type": "code",
   "execution_count": 3,
   "id": "332fd1c9-9642-417f-8873-bfe01e2307cc",
   "metadata": {},
   "outputs": [],
   "source": [
    "# read the dataset in the folder\n",
    "df_pyspark = spark.read.csv('test.csv',header=True,inferSchema=True)"
   ]
  },
  {
   "cell_type": "code",
   "execution_count": 4,
   "id": "ab61c828-9a6e-4ead-8bc7-2199387c1b8e",
   "metadata": {},
   "outputs": [
    {
     "data": {
      "text/plain": [
       "DataFrame[Name: string, Age: int, Experience: int]"
      ]
     },
     "execution_count": 4,
     "metadata": {},
     "output_type": "execute_result"
    }
   ],
   "source": [
    "df_pyspark"
   ]
  },
  {
   "cell_type": "code",
   "execution_count": 5,
   "id": "b0b66820-1daa-4735-b315-bfb14f0d9d11",
   "metadata": {},
   "outputs": [
    {
     "name": "stdout",
     "output_type": "stream",
     "text": [
      "+---------------+---+----------+\n",
      "|           Name|Age|Experience|\n",
      "+---------------+---+----------+\n",
      "|Muhammad Waleed| 29|         3|\n",
      "|  Shahroz Ahmad| 31|         2|\n",
      "|   Zia Ul Islam| 30|         1|\n",
      "+---------------+---+----------+\n",
      "\n"
     ]
    }
   ],
   "source": [
    "# show the dataset\n",
    "df_pyspark.show()"
   ]
  },
  {
   "cell_type": "code",
   "execution_count": 6,
   "id": "8bcd3ba1-54c1-4626-8169-16519c2ab1f8",
   "metadata": {},
   "outputs": [
    {
     "data": {
      "text/plain": [
       "Row(Name='Muhammad Waleed', Age=29, Experience=3)"
      ]
     },
     "execution_count": 6,
     "metadata": {},
     "output_type": "execute_result"
    }
   ],
   "source": [
    "#show the first row\n",
    "df_pyspark.head()"
   ]
  },
  {
   "cell_type": "code",
   "execution_count": 7,
   "id": "81062877-a241-4ebb-a028-b124c39c63f3",
   "metadata": {},
   "outputs": [
    {
     "name": "stdout",
     "output_type": "stream",
     "text": [
      "root\n",
      " |-- Name: string (nullable = true)\n",
      " |-- Age: integer (nullable = true)\n",
      " |-- Experience: integer (nullable = true)\n",
      "\n"
     ]
    }
   ],
   "source": [
    "# print the schema of data set\n",
    "df_pyspark.printSchema()"
   ]
  },
  {
   "cell_type": "code",
   "execution_count": 8,
   "id": "e5ce6801-8b3d-4b79-a7f4-4bed419eb045",
   "metadata": {},
   "outputs": [
    {
     "data": {
      "text/plain": [
       "['Name', 'Age', 'Experience']"
      ]
     },
     "execution_count": 8,
     "metadata": {},
     "output_type": "execute_result"
    }
   ],
   "source": [
    "# show the columns in the data set\n",
    "df_pyspark.columns"
   ]
  },
  {
   "cell_type": "markdown",
   "id": "4a30b538-2f40-4c57-9436-da38da11d94b",
   "metadata": {},
   "source": [
    "## Data Preprocessing"
   ]
  },
  {
   "cell_type": "code",
   "execution_count": 9,
   "id": "0fc17741-0c2a-4312-a150-f5aff54d1df9",
   "metadata": {},
   "outputs": [
    {
     "name": "stdout",
     "output_type": "stream",
     "text": [
      "+---+\n",
      "|Age|\n",
      "+---+\n",
      "| 29|\n",
      "| 31|\n",
      "| 30|\n",
      "+---+\n",
      "\n"
     ]
    }
   ],
   "source": [
    "# read a specific column\n",
    "df_pyspark.select('Age').show()"
   ]
  },
  {
   "cell_type": "code",
   "execution_count": 10,
   "id": "766cf85d-00d2-45f0-9e61-d5bc266b82fa",
   "metadata": {},
   "outputs": [
    {
     "name": "stdout",
     "output_type": "stream",
     "text": [
      "+---------------+----------+\n",
      "|           Name|Experience|\n",
      "+---------------+----------+\n",
      "|Muhammad Waleed|         3|\n",
      "|  Shahroz Ahmad|         2|\n",
      "|   Zia Ul Islam|         1|\n",
      "+---------------+----------+\n",
      "\n"
     ]
    }
   ],
   "source": [
    "# read a multiple column\n",
    "df_pyspark.select(['Name','Experience']).show()"
   ]
  },
  {
   "cell_type": "code",
   "execution_count": 11,
   "id": "c8c7d33f-44d9-4394-a6af-09682e7998cb",
   "metadata": {},
   "outputs": [
    {
     "data": {
      "text/plain": [
       "[('Name', 'string'), ('Age', 'int'), ('Experience', 'int')]"
      ]
     },
     "execution_count": 11,
     "metadata": {},
     "output_type": "execute_result"
    }
   ],
   "source": [
    "# show the data types\n",
    "df_pyspark.dtypes"
   ]
  },
  {
   "cell_type": "code",
   "execution_count": 12,
   "id": "c1045729-4c31-4dbd-a361-39d8c9cb6ca0",
   "metadata": {},
   "outputs": [
    {
     "name": "stdout",
     "output_type": "stream",
     "text": [
      "+-------+---------------+----+----------+\n",
      "|summary|           Name| Age|Experience|\n",
      "+-------+---------------+----+----------+\n",
      "|  count|              3|   3|         3|\n",
      "|   mean|           NULL|30.0|       2.0|\n",
      "| stddev|           NULL| 1.0|       1.0|\n",
      "|    min|Muhammad Waleed|  29|         1|\n",
      "|    max|   Zia Ul Islam|  31|         3|\n",
      "+-------+---------------+----+----------+\n",
      "\n"
     ]
    }
   ],
   "source": [
    "# describe the dataframe\n",
    "df_pyspark.describe().show()"
   ]
  },
  {
   "cell_type": "code",
   "execution_count": 13,
   "id": "dfd1eda3-ed12-4504-84f3-d84958503821",
   "metadata": {},
   "outputs": [
    {
     "name": "stdout",
     "output_type": "stream",
     "text": [
      "+---------------+---+----------+------------------+\n",
      "|           Name|Age|Experience|Current Experience|\n",
      "+---------------+---+----------+------------------+\n",
      "|Muhammad Waleed| 29|         3|                 5|\n",
      "|  Shahroz Ahmad| 31|         2|                 4|\n",
      "|   Zia Ul Islam| 30|         1|                 3|\n",
      "+---------------+---+----------+------------------+\n",
      "\n"
     ]
    }
   ],
   "source": [
    "# Adding column\n",
    "df_pyspark = df_pyspark.withColumn('Current Experience',df_pyspark['Experience']+2)\n",
    "df_pyspark.show()"
   ]
  },
  {
   "cell_type": "code",
   "execution_count": 14,
   "id": "9c6b5779-7092-4cf1-96d0-94a394a2862e",
   "metadata": {},
   "outputs": [
    {
     "name": "stdout",
     "output_type": "stream",
     "text": [
      "+---------------+---+----------+\n",
      "|           Name|Age|Experience|\n",
      "+---------------+---+----------+\n",
      "|Muhammad Waleed| 29|         3|\n",
      "|  Shahroz Ahmad| 31|         2|\n",
      "|   Zia Ul Islam| 30|         1|\n",
      "+---------------+---+----------+\n",
      "\n"
     ]
    }
   ],
   "source": [
    "# drop the column\n",
    "df_pyspark = df_pyspark.drop('Current Experience')\n",
    "df_pyspark.show()"
   ]
  },
  {
   "cell_type": "code",
   "execution_count": 15,
   "id": "7606a73e-999d-45d0-b0ab-d64a0fe99a2f",
   "metadata": {},
   "outputs": [
    {
     "name": "stdout",
     "output_type": "stream",
     "text": [
      "+---------------+---+----------+\n",
      "|  Employee Name|Age|Experience|\n",
      "+---------------+---+----------+\n",
      "|Muhammad Waleed| 29|         3|\n",
      "|  Shahroz Ahmad| 31|         2|\n",
      "|   Zia Ul Islam| 30|         1|\n",
      "+---------------+---+----------+\n",
      "\n"
     ]
    }
   ],
   "source": [
    "# Rename the column\n",
    "df_pyspark = df_pyspark.withColumnRenamed('Name', 'Employee Name')\n",
    "df_pyspark.show()"
   ]
  },
  {
   "cell_type": "code",
   "execution_count": null,
   "id": "cbd97df8-41db-4438-bbea-82bbef694045",
   "metadata": {},
   "outputs": [],
   "source": []
  }
 ],
 "metadata": {
  "kernelspec": {
   "display_name": "Python 3 (ipykernel)",
   "language": "python",
   "name": "python3"
  },
  "language_info": {
   "codemirror_mode": {
    "name": "ipython",
    "version": 3
   },
   "file_extension": ".py",
   "mimetype": "text/x-python",
   "name": "python",
   "nbconvert_exporter": "python",
   "pygments_lexer": "ipython3",
   "version": "3.9.18"
  }
 },
 "nbformat": 4,
 "nbformat_minor": 5
}
